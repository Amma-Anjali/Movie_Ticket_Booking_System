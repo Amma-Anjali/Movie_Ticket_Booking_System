{
 "cells": [
  {
   "cell_type": "markdown",
   "id": "8ee193a6",
   "metadata": {},
   "source": [
    "### 1. OOP Class Design"
   ]
  },
  {
   "cell_type": "code",
   "execution_count": 1,
   "id": "0cc28916",
   "metadata": {},
   "outputs": [],
   "source": [
    "# Movie Ticket Booking System - OOP Design\n",
    "\n",
    "class Movie:\n",
    "    def __init__(self, title, duration):\n",
    "        self.title = title\n",
    "        self.duration = duration\n",
    "\n",
    "class Theater:\n",
    "    def __init__(self, name, seats_count):\n",
    "        self.name = name\n",
    "        self.seats = {i: True for i in range(1, seats_count + 1)}  # True = available\n",
    "\n",
    "    def check_availability(self, seat_no):\n",
    "        return self.seats.get(seat_no, False)\n",
    "\n",
    "    def book_seat(self, seat_no):\n",
    "        if self.seats.get(seat_no):\n",
    "            self.seats[seat_no] = False\n",
    "            return True\n",
    "        return False\n",
    "\n",
    "    def cancel_seat(self, seat_no):\n",
    "        self.seats[seat_no] = True\n",
    "\n",
    "class Ticket:\n",
    "    def __init__(self, movie, seat_no, price):\n",
    "        self.movie = movie\n",
    "        self.seat_no = seat_no\n",
    "        self.price = price\n",
    "\n",
    "class Booking:\n",
    "    def __init__(self, theater):\n",
    "        self.theater = theater\n",
    "        self.bookings = []\n",
    "\n",
    "    def book_ticket(self, movie, seat_no, price=250.0):\n",
    "        if not self.theater.check_availability(seat_no):\n",
    "            return None  # seat not available\n",
    "        self.theater.book_seat(seat_no)\n",
    "        ticket = Ticket(movie, seat_no, price)\n",
    "        self.bookings.append(ticket)\n",
    "        return ticket\n",
    "\n",
    "    def cancel_ticket(self, ticket):\n",
    "        self.theater.cancel_seat(ticket.seat_no)\n",
    "        refund = ticket.price * 0.9  # 10% cancellation charge\n",
    "        self.bookings.remove(ticket)\n",
    "        return refund\n"
   ]
  },
  {
   "cell_type": "markdown",
   "id": "f2b29103",
   "metadata": {},
   "source": [
    "### 2. Unit Testing with unittest"
   ]
  },
  {
   "cell_type": "code",
   "execution_count": 2,
   "id": "a30553f8",
   "metadata": {},
   "outputs": [
    {
     "name": "stderr",
     "output_type": "stream",
     "text": [
      "...\n",
      "----------------------------------------------------------------------\n",
      "Ran 3 tests in 0.005s\n",
      "\n",
      "OK\n"
     ]
    },
    {
     "data": {
      "text/plain": [
       "<unittest.main.TestProgram at 0x1b4fdc37150>"
      ]
     },
     "execution_count": 2,
     "metadata": {},
     "output_type": "execute_result"
    }
   ],
   "source": [
    "import unittest\n",
    "\n",
    "class TestBookingSystem(unittest.TestCase):\n",
    "\n",
    "    def setUp(self):\n",
    "        self.movie = Movie(\"Avengers\", \"2h 30m\")\n",
    "        self.theater = Theater(\"PVR\", 5)\n",
    "        self.booking_system = Booking(self.theater)\n",
    "\n",
    "    def test_seat_availability_updated_after_booking(self):\n",
    "        ticket = self.booking_system.book_ticket(self.movie, 1)\n",
    "        self.assertFalse(self.theater.check_availability(1))  # should be False\n",
    "\n",
    "    def test_double_booking_not_allowed(self):\n",
    "        self.booking_system.book_ticket(self.movie, 2)\n",
    "        ticket2 = self.booking_system.book_ticket(self.movie, 2)\n",
    "        self.assertIsNone(ticket2)  \n",
    "        \n",
    "    def test_cancellation_restores_availability_and_refund(self):\n",
    "        ticket = self.booking_system.book_ticket(self.movie, 3)\n",
    "        refund = self.booking_system.cancel_ticket(ticket)\n",
    "        self.assertTrue(self.theater.check_availability(3))\n",
    "        self.assertEqual(refund, 225.0) \n",
    "\n",
    "unittest.main(argv=[''], exit=False)\n"
   ]
  },
  {
   "cell_type": "code",
   "execution_count": null,
   "id": "d0100ece",
   "metadata": {},
   "outputs": [],
   "source": []
  }
 ],
 "metadata": {
  "kernelspec": {
   "display_name": "Python 3 (ipykernel)",
   "language": "python",
   "name": "python3"
  },
  "language_info": {
   "codemirror_mode": {
    "name": "ipython",
    "version": 3
   },
   "file_extension": ".py",
   "mimetype": "text/x-python",
   "name": "python",
   "nbconvert_exporter": "python",
   "pygments_lexer": "ipython3",
   "version": "3.11.3"
  }
 },
 "nbformat": 4,
 "nbformat_minor": 5
}
